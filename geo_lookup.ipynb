{
  "cells": [
    {
      "cell_type": "markdown",
      "metadata": {
        "id": "view-in-github",
        "colab_type": "text"
      },
      "source": [
        "<a href=\"https://colab.research.google.com/github/piyush123/CKAD-exercises/blob/master/geo_lookup.ipynb\" target=\"_parent\"><img src=\"https://colab.research.google.com/assets/colab-badge.svg\" alt=\"Open In Colab\"/></a>"
      ]
    },
    {
      "cell_type": "markdown",
      "metadata": {
        "id": "1ucCEWKG7NTQ"
      },
      "source": [
        "<!-- This notebook is meant to be run in Google Colab. -->\n",
        "\n",
        "# Deep Atlas Primer: Data Spatialization\n",
        "\n",
        "<small>©️ 2024 Deep Atlas, Inc.</small>\n"
      ]
    },
    {
      "cell_type": "markdown",
      "metadata": {
        "id": "1zqm9zT67NTS"
      },
      "source": [
        "## Exercise: Geo-Lookup\n"
      ]
    },
    {
      "cell_type": "markdown",
      "metadata": {
        "id": "mucyblcN7NTT"
      },
      "source": [
        "_Searching for vectors in space._\n"
      ]
    },
    {
      "cell_type": "markdown",
      "metadata": {
        "id": "HA5AAonn7NTT"
      },
      "source": [
        "`#vectors` `#faiss` `#dimensions` `#embeddings` `#euclidean-distance` `#l1-distance`\n"
      ]
    },
    {
      "cell_type": "markdown",
      "metadata": {
        "id": "KL0knVFD7NTT"
      },
      "source": [
        "> Objectives:\n",
        ">\n",
        "> - Explain how vectors model data in multi-dimensional spaces\n",
        "> - Use a vector database to perform a similarity search\n"
      ]
    },
    {
      "cell_type": "markdown",
      "metadata": {
        "id": "edo51srA7NTU"
      },
      "source": [
        "### Context and goals\n"
      ]
    },
    {
      "cell_type": "markdown",
      "metadata": {
        "id": "pqiXL4CL7NTU"
      },
      "source": [
        "Vectors represent a datapoint's location in space:\n",
        "\n",
        "- Each value or \"feature\" represents the point's location along a particular dimension.\n",
        "- The entire vector represents the coordinates of the point in a N-dimensional feature-space.\n",
        "\n",
        "```python\n",
        "# Example of a vector: Geographic location in coordinate form:\n",
        "latitude_longitude_vector = [40.725311738171650, -73.99256233017770]\n",
        "```\n",
        "\n",
        "Representing data in vectors unlocks the ability to perform \"similarity\" searches, based on the distance between datapoints. Points that are closer to each other are considered more similar.\n",
        "\n",
        "**Goal**: To illustrate vector similarity search, we will set up a database to store location information about restaurants in New York City. We will then query the database to search for restaurants closest to a given geographic point.\n",
        "\n",
        "- [ ] If you are viewing this on Google Colab and have not already done so, make a copy of this notebook to save your changes (File > Save a copy in Drive).\n",
        "  - Do not share this notebook, your copy, or any course content without permission.\n"
      ]
    },
    {
      "cell_type": "markdown",
      "metadata": {
        "id": "tB6FlGCY7NTU"
      },
      "source": [
        "### Imports\n"
      ]
    },
    {
      "cell_type": "markdown",
      "metadata": {
        "id": "ppaICEFu7NTV"
      },
      "source": [
        "In this exercise, we will store vectors in a _vector store_, a purpose built database that is capable of storing floating-point values and performing distance calculations.\n",
        "\n",
        "- [ ] Install the FAISS vector store (Facebook AI Similarity Search), a lightweight in-memory vector store:\n"
      ]
    },
    {
      "cell_type": "code",
      "execution_count": null,
      "metadata": {
        "id": "_JEO0VbQ7NTV"
      },
      "outputs": [],
      "source": [
        "%pip install faiss-cpu"
      ]
    },
    {
      "cell_type": "markdown",
      "metadata": {
        "id": "HwmLIYPJ7NTW"
      },
      "source": [
        "We will also be using the Numpy library to create vectors. Numpy allows us to create specialized arrays — with lower-level C/C++ code — to improve the speed and precision of the vector math. This type of array is required by FAISS.\n",
        "\n",
        "- [ ] Import the FAISS and Numpy modules:\n"
      ]
    },
    {
      "cell_type": "code",
      "execution_count": null,
      "metadata": {
        "id": "pxqZHhSg7NTW"
      },
      "outputs": [],
      "source": [
        "import numpy as np\n",
        "import faiss"
      ]
    },
    {
      "cell_type": "markdown",
      "metadata": {
        "id": "Zqtn-rVy7NTW"
      },
      "source": [
        "### Vectorized data\n"
      ]
    },
    {
      "cell_type": "markdown",
      "metadata": {
        "id": "7md-05eF7NTW"
      },
      "source": [
        "The `restaurants` tuple below defines a list of 15 restaurants from [Eater Manhattan's Hottest Restaurants](https://web.archive.org/web/20231127210302/https://ny.eater.com/maps/best-new-nyc-restaurants-heatmap) (November 2023). You can also see them in [this Google Map](https://maps.app.goo.gl/Tx6kxDwVpmGduKWR6). Both lists are arranged from south-to-north.\n"
      ]
    },
    {
      "cell_type": "code",
      "execution_count": null,
      "metadata": {
        "id": "jbzC9pwM7NTW"
      },
      "outputs": [],
      "source": [
        "restaurants = [\n",
        "    {\n",
        "        \"id\": \"15\",\n",
        "        \"name\": \"Sushi Oku\",\n",
        "        \"latlong\": [40.715877339351415, -73.99144037455102],\n",
        "    },\n",
        "    {\n",
        "        \"id\": \"14\",\n",
        "        \"name\": \"Foul Witch\",\n",
        "        \"latlong\": [40.723513837336800, -73.98579742245305],\n",
        "    },\n",
        "    {\n",
        "        \"id\": \"13\",\n",
        "        \"name\": \"Torrisi\",\n",
        "        \"latlong\": [40.724774782488180, -73.99550349541292],\n",
        "    },\n",
        "    {\n",
        "        \"id\": \"12\",\n",
        "        \"name\": \"Raf's\",\n",
        "        \"latlong\": [40.725311738171650, -73.99256233017770],\n",
        "    },\n",
        "    {\n",
        "        \"id\": \"11\",\n",
        "        \"name\": \"Superiority Burger\",\n",
        "        \"latlong\": [40.727675266216245, -73.98319156377961],\n",
        "    },\n",
        "    {\n",
        "        \"id\": \"10\",\n",
        "        \"name\": \"Roscioli\",\n",
        "        \"latlong\": [40.728588790358934, -74.00245920108593],\n",
        "    },\n",
        "    {\n",
        "        \"id\": \"09\",\n",
        "        \"name\": \"Jazba\",\n",
        "        \"latlong\": [40.732387507885710, -73.98583346196472],\n",
        "    },\n",
        "    {\n",
        "        \"id\": \"08\",\n",
        "        \"name\": \"Libertine\",\n",
        "        \"latlong\": [40.733910718772210, -74.00690370630402],\n",
        "    },\n",
        "    {\n",
        "        \"id\": \"07\",\n",
        "        \"name\": \"L'industrie Pizzeria\",\n",
        "        \"latlong\": [40.734456887168804, -74.00448945047113],\n",
        "    },\n",
        "    {\n",
        "        \"id\": \"06\",\n",
        "        \"name\": \"Cecchi's\",\n",
        "        \"latlong\": [40.737637412633894, -73.99753672526053],\n",
        "    },\n",
        "    {\n",
        "        \"id\": \"05\",\n",
        "        \"name\": \"Bangkok Supper Club\",\n",
        "        \"latlong\": [40.739951944575424, -74.00590599736900],\n",
        "    },\n",
        "    {\n",
        "        \"id\": \"04\",\n",
        "        \"name\": \"Cafe Chelsea\",\n",
        "        \"latlong\": [40.744498683392386, -73.99670547790987],\n",
        "    },\n",
        "    {\n",
        "        \"id\": \"03\",\n",
        "        \"name\": \"Nasrin's Kitchen\",\n",
        "        \"latlong\": [40.764131773621330, -73.97592055092590],\n",
        "    },\n",
        "    {\n",
        "        \"id\": \"02\",\n",
        "        \"name\": \"Hyderabadi Zaiqa\",\n",
        "        \"latlong\": [40.764529868414660, -73.98767257976188],\n",
        "    },\n",
        "    {\n",
        "        \"id\": \"01\",\n",
        "        \"name\": \"Tatiana\",\n",
        "        \"latlong\": [40.772940574906710, -73.98302353372965],\n",
        "    },\n",
        "]"
      ]
    },
    {
      "cell_type": "markdown",
      "metadata": {
        "id": "9cfs2KxQ7NTX"
      },
      "source": [
        "- [ ] Use Numpy to create a typed array containing `float32` versions of the latitudes and longitudes of the restaurants.\n"
      ]
    },
    {
      "cell_type": "code",
      "execution_count": null,
      "metadata": {
        "id": "gYrI3Qha7NTX"
      },
      "outputs": [],
      "source": [
        "# Convert latlong lists into vectors\n",
        "latlong_vectors = np.array(\n",
        "    [restaurant[\"latlong\"] for restaurant in restaurants]\n",
        ").astype(\"float32\")"
      ]
    },
    {
      "cell_type": "markdown",
      "metadata": {
        "id": "_rgaIVn57NTX"
      },
      "source": [
        "### Initializing the Vector Store\n"
      ]
    },
    {
      "cell_type": "markdown",
      "metadata": {
        "id": "O4z2vyEs7NTX"
      },
      "source": [
        "Next, lets create a vector store instance (also called an index).\n",
        "\n",
        "To do this with FAISS, we need to specify 2 things:\n",
        "\n",
        "1. The **number of dimensions** in the vectors\n",
        "   - For this exercise, we will be dealing with _2-dimensional vectors_ (latitude and longitude).\n",
        "2. The type of **distance-metric** to use calculate the distance between two points\n",
        "\n",
        "   - We will use the simplest straight-line distance measure: Euclidean distance (a.k.a. L2 distance)\n",
        "\n",
        "   <details closed>\n",
        "   <summary>Learn more about L2 distance (optional)...</summary>\n",
        "\n",
        "   > The simplest distance measure is _\"Euclidean distance\"_, also called an _\"L2 distance\"_ in some libraries. It is the straight-line distance between two points in a Euclidean space (which is to say, a \"flat\" space without curves in the space itself). We can calculate it using a generalized version of the Pythagorean equation: compute the square-root of the sum of the squares of differences between two vectors' corresponding members.\n",
        "   >\n",
        "   > ```python\n",
        "   > # in 2D, where 0 represents the origin of the space\n",
        "   > hypotenuse_length = math.sqrt(\n",
        "   >   (side_1_length - 0) ** 2 + # 0 is the origin\n",
        "   >   (side_2_length - 0) ** 2\n",
        "   > )\n",
        "   >\n",
        "   > # in N-dimensions\n",
        "   > euclidean_distance = math.sqrt(\n",
        "   >   (vector_1[0] - vector_2[0]) ** 2 +\n",
        "   >   (vector_1[1] - vector_2[1]) ** 2 +\n",
        "   >   (vector_1[2] - vector_2[2]) ** 2 +\n",
        "   >   # ... up to (vector_1[N] - vector_2[N]) ** 2\n",
        "   > )\n",
        "   > ```\n",
        "\n",
        "   </details>\n",
        "\n",
        "- [ ] Initialize a FAISS index using the `IndexFlatL2()` constructor and pass it the number of dimensions:\n"
      ]
    },
    {
      "cell_type": "code",
      "execution_count": null,
      "metadata": {
        "id": "s7X9CMEF7NTX"
      },
      "outputs": [],
      "source": [
        "# L2 distance (Euclidean distance) index for 2D vectors\n",
        "index = faiss.IndexFlatL2(2)"
      ]
    },
    {
      "cell_type": "markdown",
      "metadata": {
        "id": "bob43tCm7NTX"
      },
      "source": [
        "- [ ] Add the lat-long vectors to the index:\n"
      ]
    },
    {
      "cell_type": "code",
      "execution_count": null,
      "metadata": {
        "id": "MuHbgZYV7NTX"
      },
      "outputs": [],
      "source": [
        "index.add(latlong_vectors)\n",
        "print(f\"Number of vectors in the index: {index.ntotal}\")"
      ]
    },
    {
      "cell_type": "markdown",
      "metadata": {
        "id": "7mEokttj7NTX"
      },
      "source": [
        "### Querying the vector store\n"
      ]
    },
    {
      "cell_type": "markdown",
      "metadata": {
        "id": "VMBaxCKu7NTX"
      },
      "source": [
        "Now that we have our vectors loaded into the index, we can search for data points that are closest — i.e. most similar — to the query vector.\n",
        "\n",
        "- [ ] Create and format a query vector (a latlong location):\n"
      ]
    },
    {
      "cell_type": "code",
      "execution_count": null,
      "metadata": {
        "id": "j_GnU7_a7NTX"
      },
      "outputs": [],
      "source": [
        "# Using the latlong for Tatiana:\n",
        "query_latlong = [40.77294057490671, -73.98302353372965]\n",
        "\n",
        "query_vector = np.array([query_latlong]).astype(\"float32\")"
      ]
    },
    {
      "cell_type": "markdown",
      "metadata": {
        "id": "NNZp37he7NTY"
      },
      "source": [
        "- [ ] Perform a search for the 5 most similar points:\n",
        "  - FAISS returns the distances and indices of the closest points. We can use this to retrieve the names of the resturants from the original `restaurants` collection.\n"
      ]
    },
    {
      "cell_type": "code",
      "execution_count": null,
      "metadata": {
        "id": "Mb4bWZ_V7NTY"
      },
      "outputs": [],
      "source": [
        "num_neighbors = 5\n",
        "distances, indices = index.search(query_vector, num_neighbors)\n",
        "\n",
        "# Display results\n",
        "print(\"Indices of nearest neighbors:\", indices)\n",
        "print(\"Distances to nearest neighbors:\", distances)"
      ]
    },
    {
      "cell_type": "markdown",
      "metadata": {
        "id": "scagzVlF7NTY"
      },
      "source": [
        "- [ ] Retrieve the names of the closest items and print the restaurant name and its distance:\n",
        "  - The `get_neighbors_from_collection` will use the indices and distances returned by FAISS to get the names of the corresponding restaurants.\n"
      ]
    },
    {
      "cell_type": "code",
      "execution_count": null,
      "metadata": {
        "id": "Q0DxwY2X7NTY"
      },
      "outputs": [],
      "source": [
        "def get_neighbors_from_collection(\n",
        "    collection, attribute_name, indices, distances\n",
        "):\n",
        "    nearest_neighbors = [\n",
        "        (collection[i][attribute_name], distances[0][j])\n",
        "        for j, i in enumerate(indices[0])\n",
        "    ]\n",
        "    return nearest_neighbors\n",
        "\n",
        "\n",
        "# Get the names of the nearest restaurants:\n",
        "nearest_neighbors = get_neighbors_from_collection(\n",
        "    restaurants, \"name\", indices, distances\n",
        ")\n",
        "\n",
        "for name, distance in nearest_neighbors:\n",
        "    print(f\"Restaurant: {name}\\n(distance: {distance})\\n\\n\")"
      ]
    },
    {
      "cell_type": "markdown",
      "metadata": {
        "id": "5_ygTyfk7NTY"
      },
      "source": [
        "You should see Tatiana (with a distance of 0 because we used its coordinates to do the search), followed by Hyderabadi Zaiqa, Nasrin's Kitchen, Cafe Chelsea, and Cecchi's.\n"
      ]
    },
    {
      "cell_type": "markdown",
      "metadata": {
        "id": "R0uUsS3A7NTY"
      },
      "source": [
        "### You Did It!\n"
      ]
    },
    {
      "cell_type": "markdown",
      "metadata": {
        "id": "76p2Q1mj7NTY"
      },
      "source": [
        "Congratulations — you just performed similarity search! In this exercise we used numeric coordinates in our physical space. The next step will be to transform other forms of data — even text — into vectors representing points in other meaningful spaces, allowing us to go from similarity search to _semantic_ search.\n",
        "\n",
        "🎉\n"
      ]
    },
    {
      "cell_type": "markdown",
      "metadata": {
        "id": "1G6u7VAf7NTY"
      },
      "source": [
        "### Extra Credit: A Taste of ML Debugging\n"
      ]
    },
    {
      "cell_type": "markdown",
      "metadata": {
        "id": "bOfB5zn17NTY"
      },
      "source": [
        "Have you noticed any results that don't make complete sense? (e.g. Bangkok Supper Club not appearing in the results before Cecchi's)\n",
        "\n",
        "This simple scenario is a perfect example of the problems you can expect to encounter in a typical ML project. When something doesn't work perfectly, there is often no straightforward path to finding the bug. If you're lucky, the symptom might be a surprise result that you can tell is clearly wrong. Or, the only symptom of the bug may be sub-optimal model performance. Worse, you may not even have a benchmark to tell you what the optimal performance could have been!\n",
        "\n",
        "If you investigate the solution above and the results it provides, you'll find that the relative distances between locations are consistently a little wrong, compared to their crow flight distance.\n",
        "\n",
        "- [ ] Before reading on, take a moment to try and think of any reasons that could be leading to undesirable results.\n",
        "\n",
        "Let's find and fix the bug.\n",
        "\n",
        "If you haven't taken a moment yet to reflect on what might be causing it, please do so before reading on.\n",
        "\n",
        "It isn't crucial for you to figure out the problem before moving on, but it is crucial that you've made some attempts.\n"
      ]
    },
    {
      "cell_type": "markdown",
      "metadata": {
        "id": "sVqSwTLM7NTY"
      },
      "source": [
        "#### Finding the Bug\n"
      ]
    },
    {
      "cell_type": "markdown",
      "metadata": {
        "id": "DBUgbBte7NTY"
      },
      "source": [
        "We're going to spoil the mystery for you. One cause of distortion in our example is that lines of latitude and longitude do not have a reliable translation into distance. The technical way to say this is that we are trying to treat lat/long coordinates as if they lived on a euclidean (that is, a flat and undistorted) space. But the surface of the earth is a 2d space wrapped around a 3d sphere. The resulting distortion is what qualifies the space as a \"non-euclidean\" space.\n",
        "\n",
        "So, while a single degree of latitude is approximately the same length throughout the world (~69 miles long), a single degree of longitude varies in length depending on the latitude from which measure the length of that longitudinal degree. At the equator, one degree of longitude is about 69 miles long, and that length shrinks as you approach either pole. In Manhattan, longitudinal degrees are about 52 miles long. Distances calculated by our vector database, however, assume that the units of measurement are equal for both dimensions of the vector. The euclidean distance measurement under-counts longitudinal miles compared to latitudinal miles for locations at any distance from the equator.\n",
        "\n",
        "This sort of skewing can be solved with \"feature engineering\" — the mathematical adjustment and editing of features to better suit the task. One example is [converting latitude and longitude values into points in 3-dimensional space](https://math.stackexchange.com/a/29162).\n"
      ]
    },
    {
      "cell_type": "markdown",
      "metadata": {
        "id": "s5GbPul57NTZ"
      },
      "source": [
        "### Extra Credit\n"
      ]
    },
    {
      "cell_type": "markdown",
      "metadata": {
        "id": "ulUqn5uO7NTZ"
      },
      "source": [
        "- [ ] Implement a solution that counteracts the distortion effects of attempting to do vector similarity search in a curved (\"non-euclidean\") space.\n",
        "\n",
        "In this exercise, we set up a vector database, initialized it with data that represented literal points in a non-euclidean 2d space, and used a distance/similarity search to retrieve relevant results. This exercise only explored applications of Euclidean distance measures.\n",
        "\n",
        "- [ ] Read this post by the purpose-built vector database Pinecone, regarding [vector similarity](https://www.pinecone.io/learn/vector-similarity/), including two other distance measures, cosine (a.k.a. inner product) and dot-product\n"
      ]
    }
  ],
  "metadata": {
    "kernelspec": {
      "display_name": "base",
      "language": "python",
      "name": "python3"
    },
    "language_info": {
      "codemirror_mode": {
        "name": "ipython",
        "version": 3
      },
      "file_extension": ".py",
      "mimetype": "text/x-python",
      "name": "python",
      "nbconvert_exporter": "python",
      "pygments_lexer": "ipython3",
      "version": "3.11.5"
    },
    "colab": {
      "provenance": [],
      "collapsed_sections": [
        "1G6u7VAf7NTY",
        "s5GbPul57NTZ"
      ],
      "include_colab_link": true
    }
  },
  "nbformat": 4,
  "nbformat_minor": 0
}